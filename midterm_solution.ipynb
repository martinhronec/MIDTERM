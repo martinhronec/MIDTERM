{
 "cells": [
  {
   "cell_type": "markdown",
   "metadata": {},
   "source": [
    "## Solution"
   ]
  },
  {
   "cell_type": "code",
   "execution_count": 1,
   "metadata": {},
   "outputs": [],
   "source": [
    "import pandas as pd\n",
    "import requests\n",
    "from bs4 import BeautifulSoup\n",
    "\n",
    "class Downloader():\n",
    "    '''\n",
    "    A downloader class containing methods to find all links on books on given page, storing Book objects and extract pandas dataframe\n",
    "    \n",
    "    Usage\n",
    "    -----\n",
    "    Initiate the class and it will find all books and save it.\n",
    "    \n",
    "    Input\n",
    "    -----\n",
    "    `link`: link to the list of books on wikipedia\n",
    "    \n",
    "    Attributes\n",
    "    ----------\n",
    "    `soup`: BeautifulSoup objects with the list of books\n",
    "    `links`: list with links to books\n",
    "    `books`: pd.Dataframe with character name and the book as columns\n",
    "    \n",
    "    '''\n",
    "    def __init__(self,link='http://wiki.lspace.org/mediawiki/List_of_Pratchett_characters'):\n",
    "        '''\n",
    "        Constructor extracting links (`self.links`) from the given page and creating DataFrame with character names and books.\n",
    "        \n",
    "        `link`: the link to the page with list of links\n",
    "        \n",
    "        '''\n",
    "        resp = requests.get(link)\n",
    "        self.soup = BeautifulSoup(resp.text,'lxml')\n",
    "        \n",
    "        self.getLinks()\n",
    "        self.getBooks()\n",
    "        \n",
    "        \n",
    "    def getLinks(self):\n",
    "        '''\n",
    "        extracts all links to the individual books pages\n",
    "        '''\n",
    "        lis = self.soup.find('span',{'id':'Unseen_University_and_the_Wizards'}).parent.previous.previous.parent.parent.parent.find_all('li')\n",
    "        self.links = ['http://wiki.lspace.org' + li.find('a')['href'] for li in lis]\n",
    "    \n",
    "    def getBooks(self):\n",
    "        '''\n",
    "        for each link stored in `links` generate corresponding `Book` object\n",
    "        \n",
    "        returns list of Book objects\n",
    "        '''\n",
    "        \n",
    "        self.books = pd.concat([Book(link).df for link in self.links], axis = 0)\n",
    "\n",
    "    \n",
    "class Book():\n",
    "    '''\n",
    "    A class for scraped object containing its html as well as DataFrame with parsed characteristics\n",
    "    \n",
    "    Usage\n",
    "    -----\n",
    "    just initiate the object with link pointing at the book\n",
    "    \n",
    "    Input\n",
    "    -----\n",
    "    `link`: the wikipedia link to the individual book\n",
    "    '''\n",
    "    def __init__(self,link):\n",
    "        '''\n",
    "        After downloading HTML of the page parses all relevant informations and stores them in the DataFrame called df\n",
    "        '''\n",
    "        resp = requests.get(link)\n",
    "        self.link = link\n",
    "        self.soup = BeautifulSoup(resp.text,'lxml')\n",
    "        \n",
    "        self.df = self.parseBook()\n",
    "        \n",
    "    def parseBook(self):\n",
    "        '''\n",
    "        Returns DataFrame with pairs of character name and the book as 2 columns.\n",
    "        '''\n",
    "\n",
    "        name = self.soup.find('h1',{'id':'firstHeading'}).text\n",
    "        all_book_links = self.soup.find('table').find_all(\"a\", href=lambda href: href and \"Book:\" in href)\n",
    "        books = [book_link.text for book_link in all_book_links]\n",
    "        print(f'Book {name} parsed')\n",
    "        return pd.DataFrame([{'character_name':name,'book':b} for b in books])\n",
    "    "
   ]
  },
  {
   "cell_type": "code",
   "execution_count": 2,
   "metadata": {},
   "outputs": [
    {
     "name": "stdout",
     "output_type": "stream",
     "text": [
      "Book Evadne Cake parsed\n",
      "Book Fred Colon parsed\n",
      "Book Marietta Cosmopilite parsed\n",
      "Book Detritus parsed\n",
      "Book Cut-Me-Own-Throat Dibbler parsed\n",
      "Book Dorfl parsed\n",
      "Book Rufus Drumknott parsed\n",
      "Book Gaspode parsed\n",
      "Book Carrot Ironfoundersson parsed\n",
      "Book Leonard of Quirm parsed\n",
      "Book Cheery Littlebottom parsed\n",
      "Book Nobby Nobbs parsed\n",
      "Book Sybil Ramkin parsed\n",
      "Book Foul Ole Ron parsed\n",
      "Book Reg Shoe parsed\n",
      "Book Slant parsed\n",
      "Book Angua von Überwald parsed\n",
      "Book Havelock Vetinari parsed\n",
      "Book Samuel Vimes parsed\n",
      "Book Visit-The-Infidel-With-Explanatory-Pamphlets parsed\n",
      "Book Willikins parsed\n"
     ]
    }
   ],
   "source": [
    "dl = Downloader('http://wiki.lspace.org/mediawiki/List_of_Pratchett_characters')"
   ]
  },
  {
   "cell_type": "markdown",
   "metadata": {},
   "source": [
    "### Question 1"
   ]
  },
  {
   "cell_type": "code",
   "execution_count": 3,
   "metadata": {},
   "outputs": [
    {
     "data": {
      "text/plain": [
       "14"
      ]
     },
     "execution_count": 3,
     "metadata": {},
     "output_type": "execute_result"
    }
   ],
   "source": [
    "dl.books[dl.books['book'] == 'Men at Arms'].shape[0]"
   ]
  },
  {
   "cell_type": "markdown",
   "metadata": {},
   "source": [
    "### Question 2"
   ]
  },
  {
   "cell_type": "code",
   "execution_count": 4,
   "metadata": {},
   "outputs": [
    {
     "data": {
      "text/plain": [
       "{'Jingo'}"
      ]
     },
     "execution_count": 4,
     "metadata": {},
     "output_type": "execute_result"
    }
   ],
   "source": [
    "# one possibility\n",
    "evadne_books = dl.books.loc[dl.books.character_name == 'Evadne Cake', 'book']\n",
    "pamphlets_books = dl.books.loc[dl.books.character_name == 'Visit-The-Infidel-With-Explanatory-Pamphlets','book']\n",
    "set(evadne_books).intersection(set(pamphlets_books))"
   ]
  },
  {
   "cell_type": "code",
   "execution_count": 5,
   "metadata": {},
   "outputs": [
    {
     "data": {
      "text/plain": [
       "book\n",
       "Feet of Clay                        False\n",
       "Going Postal                        False\n",
       "Guards! Guards!                     False\n",
       "Hogfather                           False\n",
       "I Shall Wear Midnight               False\n",
       "Interesting Times                   False\n",
       "Jingo                                True\n",
       "Johnny and the Bomb                 False\n",
       "Making Money                        False\n",
       "Maskerade                           False\n",
       "Men at Arms                         False\n",
       "Monstrous Regiment                  False\n",
       "Mort                                False\n",
       "Moving Pictures                     False\n",
       "Night Watch                         False\n",
       "Raising Steam                       False\n",
       "Reaper Man                          False\n",
       "Small Gods                          False\n",
       "Snuff                               False\n",
       "Soul Music                          False\n",
       "Sourcery                            False\n",
       "The Celebrated Discworld Almanak    False\n",
       "The Colour of Magic                 False\n",
       "The Fifth Elephant                  False\n",
       "The Last Hero                       False\n",
       "The Truth                           False\n",
       "Thief of Time                       False\n",
       "Thud!                               False\n",
       "Unseen Academicals                  False\n",
       "Where's My Cow?                     False\n",
       "Wyrd Sisters                        False\n",
       "dtype: bool"
      ]
     },
     "execution_count": 5,
     "metadata": {},
     "output_type": "execute_result"
    }
   ],
   "source": [
    "# alternative\n",
    "dl.books.groupby('book').apply(lambda g: ('Visit-The-Infidel-With-Explanatory-Pamphlets' in g.character_name.values) & ('Evadne Cake' in g.character_name.values))"
   ]
  }
 ],
 "metadata": {
  "kernelspec": {
   "display_name": "Python 3",
   "language": "python",
   "name": "python3"
  },
  "language_info": {
   "codemirror_mode": {
    "name": "ipython",
    "version": 3
   },
   "file_extension": ".py",
   "mimetype": "text/x-python",
   "name": "python",
   "nbconvert_exporter": "python",
   "pygments_lexer": "ipython3",
   "version": "3.7.6"
  }
 },
 "nbformat": 4,
 "nbformat_minor": 4
}
